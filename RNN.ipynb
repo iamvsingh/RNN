{
 "cells": [
  {
   "cell_type": "code",
   "execution_count": 1,
   "metadata": {},
   "outputs": [],
   "source": [
    "import pandas as pd"
   ]
  },
  {
   "cell_type": "code",
   "execution_count": 2,
   "metadata": {},
   "outputs": [],
   "source": [
    "train=pd.read_csv('Google_Stock_Price_Train.csv')"
   ]
  },
  {
   "cell_type": "code",
   "execution_count": 9,
   "metadata": {},
   "outputs": [
    {
     "data": {
      "text/plain": [
       "(1258, 1)"
      ]
     },
     "execution_count": 9,
     "metadata": {},
     "output_type": "execute_result"
    }
   ],
   "source": [
    "train.shape"
   ]
  },
  {
   "cell_type": "code",
   "execution_count": 7,
   "metadata": {},
   "outputs": [],
   "source": [
    "train=train.iloc[:,1:2].values"
   ]
  },
  {
   "cell_type": "code",
   "execution_count": 44,
   "metadata": {},
   "outputs": [],
   "source": [
    "train1=pd.read_csv('Google_Stock_Price_Train.csv')\n",
    "train1=train1.iloc[:,1:2].values\n"
   ]
  },
  {
   "cell_type": "code",
   "execution_count": 23,
   "metadata": {},
   "outputs": [],
   "source": [
    "from sklearn.preprocessing import MinMaxScaler\n",
    "sc=MinMaxScaler()\n",
    "train=sc.fit_transform(train)"
   ]
  },
  {
   "cell_type": "code",
   "execution_count": 39,
   "metadata": {},
   "outputs": [],
   "source": [
    "X_train=train[0:1257]"
   ]
  },
  {
   "cell_type": "code",
   "execution_count": 40,
   "metadata": {},
   "outputs": [],
   "source": [
    "y_train=train[1:1258]"
   ]
  },
  {
   "cell_type": "code",
   "execution_count": null,
   "metadata": {},
   "outputs": [],
   "source": []
  },
  {
   "cell_type": "code",
   "execution_count": 26,
   "metadata": {},
   "outputs": [],
   "source": [
    "import numpy as np\n",
    "X_train=np.reshape(X_train,(1257,1,1))"
   ]
  },
  {
   "cell_type": "code",
   "execution_count": 27,
   "metadata": {},
   "outputs": [],
   "source": [
    "from keras.layers import Dense\n",
    "from keras.layers import LSTM\n",
    "from keras.models import Sequential"
   ]
  },
  {
   "cell_type": "code",
   "execution_count": 28,
   "metadata": {},
   "outputs": [],
   "source": [
    "regressor=Sequential()"
   ]
  },
  {
   "cell_type": "markdown",
   "metadata": {},
   "source": [
    "# Input Layer"
   ]
  },
  {
   "cell_type": "code",
   "execution_count": 29,
   "metadata": {},
   "outputs": [],
   "source": [
    "regressor.add(LSTM(units=4, activation='sigmoid',input_shape=(None,1)))"
   ]
  },
  {
   "cell_type": "markdown",
   "metadata": {},
   "source": [
    "# Output Layer"
   ]
  },
  {
   "cell_type": "code",
   "execution_count": 30,
   "metadata": {},
   "outputs": [],
   "source": [
    "regressor.add(Dense(units=1))"
   ]
  },
  {
   "cell_type": "code",
   "execution_count": 31,
   "metadata": {},
   "outputs": [],
   "source": [
    "regressor.compile(optimizer='adam',loss='mean_squared_error')"
   ]
  },
  {
   "cell_type": "code",
   "execution_count": 32,
   "metadata": {},
   "outputs": [
    {
     "name": "stdout",
     "output_type": "stream",
     "text": [
      "Epoch 1/200\n",
      "1257/1257 [==============================] - 1s 786us/step - loss: 0.1446\n",
      "Epoch 2/200\n",
      "1257/1257 [==============================] - 0s 45us/step - loss: 0.1061\n",
      "Epoch 3/200\n",
      "1257/1257 [==============================] - 0s 46us/step - loss: 0.0862\n",
      "Epoch 4/200\n",
      "1257/1257 [==============================] - 0s 44us/step - loss: 0.0773\n",
      "Epoch 5/200\n",
      "1257/1257 [==============================] - 0s 44us/step - loss: 0.0739\n",
      "Epoch 6/200\n",
      "1257/1257 [==============================] - 0s 45us/step - loss: 0.0722\n",
      "Epoch 7/200\n",
      "1257/1257 [==============================] - 0s 44us/step - loss: 0.0712\n",
      "Epoch 8/200\n",
      "1257/1257 [==============================] - 0s 45us/step - loss: 0.0702\n",
      "Epoch 9/200\n",
      "1257/1257 [==============================] - 0s 40us/step - loss: 0.0693\n",
      "Epoch 10/200\n",
      "1257/1257 [==============================] - 0s 45us/step - loss: 0.0682\n",
      "Epoch 11/200\n",
      "1257/1257 [==============================] - 0s 36us/step - loss: 0.0672\n",
      "Epoch 12/200\n",
      "1257/1257 [==============================] - 0s 35us/step - loss: 0.0661\n",
      "Epoch 13/200\n",
      "1257/1257 [==============================] - 0s 39us/step - loss: 0.0650\n",
      "Epoch 14/200\n",
      "1257/1257 [==============================] - 0s 38us/step - loss: 0.0638\n",
      "Epoch 15/200\n",
      "1257/1257 [==============================] - 0s 36us/step - loss: 0.0626\n",
      "Epoch 16/200\n",
      "1257/1257 [==============================] - 0s 38us/step - loss: 0.0613\n",
      "Epoch 17/200\n",
      "1257/1257 [==============================] - 0s 40us/step - loss: 0.0601\n",
      "Epoch 18/200\n",
      "1257/1257 [==============================] - 0s 39us/step - loss: 0.0586\n",
      "Epoch 19/200\n",
      "1257/1257 [==============================] - 0s 40us/step - loss: 0.0572\n",
      "Epoch 20/200\n",
      "1257/1257 [==============================] - 0s 39us/step - loss: 0.0558\n",
      "Epoch 21/200\n",
      "1257/1257 [==============================] - 0s 37us/step - loss: 0.0542\n",
      "Epoch 22/200\n",
      "1257/1257 [==============================] - 0s 40us/step - loss: 0.0526\n",
      "Epoch 23/200\n",
      "1257/1257 [==============================] - 0s 40us/step - loss: 0.0510\n",
      "Epoch 24/200\n",
      "1257/1257 [==============================] - 0s 38us/step - loss: 0.0492\n",
      "Epoch 25/200\n",
      "1257/1257 [==============================] - 0s 37us/step - loss: 0.0475\n",
      "Epoch 26/200\n",
      "1257/1257 [==============================] - 0s 40us/step - loss: 0.0456\n",
      "Epoch 27/200\n",
      "1257/1257 [==============================] - 0s 38us/step - loss: 0.0437\n",
      "Epoch 28/200\n",
      "1257/1257 [==============================] - 0s 37us/step - loss: 0.0418\n",
      "Epoch 29/200\n",
      "1257/1257 [==============================] - 0s 38us/step - loss: 0.0398\n",
      "Epoch 30/200\n",
      "1257/1257 [==============================] - 0s 40us/step - loss: 0.0377\n",
      "Epoch 31/200\n",
      "1257/1257 [==============================] - 0s 38us/step - loss: 0.0356\n",
      "Epoch 32/200\n",
      "1257/1257 [==============================] - 0s 38us/step - loss: 0.0335\n",
      "Epoch 33/200\n",
      "1257/1257 [==============================] - 0s 37us/step - loss: 0.0314\n",
      "Epoch 34/200\n",
      "1257/1257 [==============================] - 0s 40us/step - loss: 0.0293\n",
      "Epoch 35/200\n",
      "1257/1257 [==============================] - 0s 36us/step - loss: 0.0271\n",
      "Epoch 36/200\n",
      "1257/1257 [==============================] - 0s 35us/step - loss: 0.0249\n",
      "Epoch 37/200\n",
      "1257/1257 [==============================] - 0s 40us/step - loss: 0.0229\n",
      "Epoch 38/200\n",
      "1257/1257 [==============================] - 0s 40us/step - loss: 0.0209\n",
      "Epoch 39/200\n",
      "1257/1257 [==============================] - 0s 36us/step - loss: 0.0189\n",
      "Epoch 40/200\n",
      "1257/1257 [==============================] - 0s 40us/step - loss: 0.0170\n",
      "Epoch 41/200\n",
      "1257/1257 [==============================] - 0s 40us/step - loss: 0.0151\n",
      "Epoch 42/200\n",
      "1257/1257 [==============================] - 0s 40us/step - loss: 0.0134\n",
      "Epoch 43/200\n",
      "1257/1257 [==============================] - 0s 36us/step - loss: 0.0117\n",
      "Epoch 44/200\n",
      "1257/1257 [==============================] - 0s 37us/step - loss: 0.0102\n",
      "Epoch 45/200\n",
      "1257/1257 [==============================] - 0s 38us/step - loss: 0.0089\n",
      "Epoch 46/200\n",
      "1257/1257 [==============================] - 0s 40us/step - loss: 0.0076\n",
      "Epoch 47/200\n",
      "1257/1257 [==============================] - 0s 38us/step - loss: 0.0065\n",
      "Epoch 48/200\n",
      "1257/1257 [==============================] - 0s 38us/step - loss: 0.0055\n",
      "Epoch 49/200\n",
      "1257/1257 [==============================] - 0s 36us/step - loss: 0.0046\n",
      "Epoch 50/200\n",
      "1257/1257 [==============================] - 0s 40us/step - loss: 0.0038\n",
      "Epoch 51/200\n",
      "1257/1257 [==============================] - 0s 38us/step - loss: 0.0032\n",
      "Epoch 52/200\n",
      "1257/1257 [==============================] - 0s 38us/step - loss: 0.0026\n",
      "Epoch 53/200\n",
      "1257/1257 [==============================] - 0s 39us/step - loss: 0.0022\n",
      "Epoch 54/200\n",
      "1257/1257 [==============================] - 0s 40us/step - loss: 0.0018\n",
      "Epoch 55/200\n",
      "1257/1257 [==============================] - 0s 36us/step - loss: 0.0014\n",
      "Epoch 56/200\n",
      "1257/1257 [==============================] - 0s 36us/step - loss: 0.0012\n",
      "Epoch 57/200\n",
      "1257/1257 [==============================] - 0s 38us/step - loss: 9.5959e-04\n",
      "Epoch 58/200\n",
      "1257/1257 [==============================] - 0s 40us/step - loss: 7.9140e-04\n",
      "Epoch 59/200\n",
      "1257/1257 [==============================] - 0s 38us/step - loss: 6.5864e-04\n",
      "Epoch 60/200\n",
      "1257/1257 [==============================] - 0s 38us/step - loss: 5.5977e-04\n",
      "Epoch 61/200\n",
      "1257/1257 [==============================] - 0s 39us/step - loss: 4.8107e-04\n",
      "Epoch 62/200\n",
      "1257/1257 [==============================] - 0s 44us/step - loss: 4.2078e-04\n",
      "Epoch 63/200\n",
      "1257/1257 [==============================] - 0s 36us/step - loss: 3.7650e-04\n",
      "Epoch 64/200\n",
      "1257/1257 [==============================] - 0s 38us/step - loss: 3.4681e-04\n",
      "Epoch 65/200\n",
      "1257/1257 [==============================] - 0s 40us/step - loss: 3.1951e-04\n",
      "Epoch 66/200\n",
      "1257/1257 [==============================] - 0s 39us/step - loss: 3.0201e-04\n",
      "Epoch 67/200\n",
      "1257/1257 [==============================] - 0s 38us/step - loss: 2.8949e-04\n",
      "Epoch 68/200\n",
      "1257/1257 [==============================] - 0s 39us/step - loss: 2.8158e-04\n",
      "Epoch 69/200\n",
      "1257/1257 [==============================] - 0s 40us/step - loss: 2.7349e-04\n",
      "Epoch 70/200\n",
      "1257/1257 [==============================] - 0s 38us/step - loss: 2.6886e-04\n",
      "Epoch 71/200\n",
      "1257/1257 [==============================] - 0s 37us/step - loss: 2.6537e-04\n",
      "Epoch 72/200\n",
      "1257/1257 [==============================] - 0s 38us/step - loss: 2.6364e-04\n",
      "Epoch 73/200\n",
      "1257/1257 [==============================] - 0s 40us/step - loss: 2.6174e-04\n",
      "Epoch 74/200\n",
      "1257/1257 [==============================] - 0s 39us/step - loss: 2.6022e-04\n",
      "Epoch 75/200\n",
      "1257/1257 [==============================] - 0s 37us/step - loss: 2.5971e-04\n",
      "Epoch 76/200\n",
      "1257/1257 [==============================] - 0s 38us/step - loss: 2.5914e-04\n",
      "Epoch 77/200\n",
      "1257/1257 [==============================] - 0s 39us/step - loss: 2.5839e-04\n",
      "Epoch 78/200\n",
      "1257/1257 [==============================] - 0s 36us/step - loss: 2.5770e-04\n",
      "Epoch 79/200\n",
      "1257/1257 [==============================] - 0s 36us/step - loss: 2.5761e-04\n",
      "Epoch 80/200\n",
      "1257/1257 [==============================] - 0s 37us/step - loss: 2.5682e-04\n",
      "Epoch 81/200\n",
      "1257/1257 [==============================] - 0s 40us/step - loss: 2.5887e-04\n",
      "Epoch 82/200\n",
      "1257/1257 [==============================] - 0s 36us/step - loss: 2.5738e-04\n",
      "Epoch 83/200\n",
      "1257/1257 [==============================] - 0s 44us/step - loss: 2.5674e-04\n",
      "Epoch 84/200\n",
      "1257/1257 [==============================] - 0s 36us/step - loss: 2.5606e-04\n",
      "Epoch 85/200\n",
      "1257/1257 [==============================] - 0s 41us/step - loss: 2.5682e-04\n",
      "Epoch 86/200\n",
      "1257/1257 [==============================] - 0s 36us/step - loss: 2.5636e-04\n",
      "Epoch 87/200\n",
      "1257/1257 [==============================] - 0s 38us/step - loss: 2.5573e-04\n",
      "Epoch 88/200\n",
      "1257/1257 [==============================] - 0s 41us/step - loss: 2.5449e-04\n",
      "Epoch 89/200\n",
      "1257/1257 [==============================] - 0s 40us/step - loss: 2.5451e-04\n",
      "Epoch 90/200\n",
      "1257/1257 [==============================] - 0s 39us/step - loss: 2.5456e-04\n",
      "Epoch 91/200\n",
      "1257/1257 [==============================] - 0s 38us/step - loss: 2.5381e-04\n",
      "Epoch 92/200\n",
      "1257/1257 [==============================] - 0s 38us/step - loss: 2.5360e-04\n",
      "Epoch 93/200\n",
      "1257/1257 [==============================] - 0s 44us/step - loss: 2.5499e-04\n",
      "Epoch 94/200\n",
      "1257/1257 [==============================] - 0s 38us/step - loss: 2.5303e-04\n",
      "Epoch 95/200\n",
      "1257/1257 [==============================] - 0s 39us/step - loss: 2.5328e-04\n",
      "Epoch 96/200\n",
      "1257/1257 [==============================] - 0s 38us/step - loss: 2.5348e-04\n",
      "Epoch 97/200\n",
      "1257/1257 [==============================] - 0s 40us/step - loss: 2.5356e-04\n",
      "Epoch 98/200\n",
      "1257/1257 [==============================] - 0s 36us/step - loss: 2.5318e-04\n",
      "Epoch 99/200\n",
      "1257/1257 [==============================] - 0s 37us/step - loss: 2.5165e-04\n",
      "Epoch 100/200\n",
      "1257/1257 [==============================] - 0s 41us/step - loss: 2.5128e-04\n",
      "Epoch 101/200\n",
      "1257/1257 [==============================] - 0s 39us/step - loss: 2.5218e-04\n",
      "Epoch 102/200\n",
      "1257/1257 [==============================] - 0s 36us/step - loss: 2.5471e-04\n",
      "Epoch 103/200\n",
      "1257/1257 [==============================] - 0s 39us/step - loss: 2.5386e-04\n",
      "Epoch 104/200\n",
      "1257/1257 [==============================] - 0s 41us/step - loss: 2.5282e-04\n",
      "Epoch 105/200\n",
      "1257/1257 [==============================] - 0s 35us/step - loss: 2.5560e-04\n",
      "Epoch 106/200\n",
      "1257/1257 [==============================] - 0s 37us/step - loss: 2.5182e-04\n",
      "Epoch 107/200\n",
      "1257/1257 [==============================] - 0s 39us/step - loss: 2.5509e-04\n",
      "Epoch 108/200\n",
      "1257/1257 [==============================] - 0s 40us/step - loss: 2.5204e-04\n",
      "Epoch 109/200\n",
      "1257/1257 [==============================] - 0s 37us/step - loss: 2.5155e-04\n",
      "Epoch 110/200\n",
      "1257/1257 [==============================] - 0s 44us/step - loss: 2.5062e-04\n",
      "Epoch 111/200\n",
      "1257/1257 [==============================] - 0s 41us/step - loss: 2.5181e-04\n",
      "Epoch 112/200\n",
      "1257/1257 [==============================] - 0s 48us/step - loss: 2.5054e-04\n",
      "Epoch 113/200\n",
      "1257/1257 [==============================] - 0s 41us/step - loss: 2.5030e-04\n",
      "Epoch 114/200\n",
      "1257/1257 [==============================] - 0s 40us/step - loss: 2.5155e-04\n",
      "Epoch 115/200\n",
      "1257/1257 [==============================] - 0s 47us/step - loss: 2.5147e-04\n",
      "Epoch 116/200\n",
      "1257/1257 [==============================] - 0s 47us/step - loss: 2.4997e-04\n",
      "Epoch 117/200\n",
      "1257/1257 [==============================] - 0s 40us/step - loss: 2.4957e-04\n",
      "Epoch 118/200\n",
      "1257/1257 [==============================] - 0s 40us/step - loss: 2.5063e-04\n",
      "Epoch 119/200\n",
      "1257/1257 [==============================] - 0s 41us/step - loss: 2.5023e-04\n",
      "Epoch 120/200\n",
      "1257/1257 [==============================] - 0s 37us/step - loss: 2.4928e-04\n",
      "Epoch 121/200\n",
      "1257/1257 [==============================] - 0s 37us/step - loss: 2.4956e-04\n",
      "Epoch 122/200\n",
      "1257/1257 [==============================] - 0s 36us/step - loss: 2.4963e-04\n",
      "Epoch 123/200\n",
      "1257/1257 [==============================] - 0s 40us/step - loss: 2.4912e-04\n",
      "Epoch 124/200\n",
      "1257/1257 [==============================] - 0s 39us/step - loss: 2.5081e-04\n",
      "Epoch 125/200\n",
      "1257/1257 [==============================] - 0s 36us/step - loss: 2.4876e-04\n",
      "Epoch 126/200\n",
      "1257/1257 [==============================] - 0s 35us/step - loss: 2.4828e-04\n",
      "Epoch 127/200\n",
      "1257/1257 [==============================] - 0s 37us/step - loss: 2.4823e-04\n",
      "Epoch 128/200\n",
      "1257/1257 [==============================] - 0s 38us/step - loss: 2.4913e-04\n",
      "Epoch 129/200\n",
      "1257/1257 [==============================] - 0s 37us/step - loss: 2.4927e-04\n",
      "Epoch 130/200\n",
      "1257/1257 [==============================] - 0s 37us/step - loss: 2.4850e-04\n",
      "Epoch 131/200\n",
      "1257/1257 [==============================] - 0s 40us/step - loss: 2.4928e-04\n",
      "Epoch 132/200\n",
      "1257/1257 [==============================] - 0s 35us/step - loss: 2.4775e-04\n",
      "Epoch 133/200\n",
      "1257/1257 [==============================] - 0s 37us/step - loss: 2.4946e-04\n",
      "Epoch 134/200\n",
      "1257/1257 [==============================] - 0s 36us/step - loss: 2.5014e-04\n",
      "Epoch 135/200\n",
      "1257/1257 [==============================] - 0s 38us/step - loss: 2.5017e-04\n",
      "Epoch 136/200\n",
      "1257/1257 [==============================] - 0s 38us/step - loss: 2.5390e-04\n",
      "Epoch 137/200\n",
      "1257/1257 [==============================] - 0s 39us/step - loss: 2.4964e-04\n",
      "Epoch 138/200\n",
      "1257/1257 [==============================] - 0s 38us/step - loss: 2.5006e-04\n",
      "Epoch 139/200\n",
      "1257/1257 [==============================] - 0s 40us/step - loss: 2.4806e-04\n",
      "Epoch 140/200\n",
      "1257/1257 [==============================] - 0s 36us/step - loss: 2.4946e-04\n",
      "Epoch 141/200\n",
      "1257/1257 [==============================] - 0s 37us/step - loss: 2.4912e-04\n",
      "Epoch 142/200\n",
      "1257/1257 [==============================] - 0s 35us/step - loss: 2.4797e-04\n",
      "Epoch 143/200\n",
      "1257/1257 [==============================] - 0s 37us/step - loss: 2.4807e-04\n",
      "Epoch 144/200\n",
      "1257/1257 [==============================] - 0s 38us/step - loss: 2.5000e-04\n",
      "Epoch 145/200\n",
      "1257/1257 [==============================] - 0s 41us/step - loss: 2.5371e-04\n",
      "Epoch 146/200\n",
      "1257/1257 [==============================] - 0s 38us/step - loss: 2.4777e-04\n",
      "Epoch 147/200\n",
      "1257/1257 [==============================] - 0s 39us/step - loss: 2.5114e-04\n",
      "Epoch 148/200\n",
      "1257/1257 [==============================] - 0s 37us/step - loss: 2.5000e-04\n",
      "Epoch 149/200\n",
      "1257/1257 [==============================] - 0s 38us/step - loss: 2.4673e-04\n",
      "Epoch 150/200\n",
      "1257/1257 [==============================] - 0s 38us/step - loss: 2.5014e-04\n",
      "Epoch 151/200\n",
      "1257/1257 [==============================] - 0s 39us/step - loss: 2.4921e-04\n",
      "Epoch 152/200\n",
      "1257/1257 [==============================] - 0s 37us/step - loss: 2.5071e-04\n",
      "Epoch 153/200\n",
      "1257/1257 [==============================] - 0s 39us/step - loss: 2.4874e-04\n",
      "Epoch 154/200\n",
      "1257/1257 [==============================] - 0s 40us/step - loss: 2.4925e-04\n",
      "Epoch 155/200\n",
      "1257/1257 [==============================] - 0s 42us/step - loss: 2.4867e-04\n",
      "Epoch 156/200\n",
      "1257/1257 [==============================] - 0s 40us/step - loss: 2.4767e-04\n",
      "Epoch 157/200\n",
      "1257/1257 [==============================] - 0s 38us/step - loss: 2.4890e-04\n",
      "Epoch 158/200\n",
      "1257/1257 [==============================] - 0s 40us/step - loss: 2.5019e-04\n",
      "Epoch 159/200\n",
      "1257/1257 [==============================] - 0s 37us/step - loss: 2.5005e-04\n",
      "Epoch 160/200\n",
      "1257/1257 [==============================] - 0s 38us/step - loss: 2.4880e-04\n",
      "Epoch 161/200\n",
      "1257/1257 [==============================] - 0s 38us/step - loss: 2.4774e-04\n",
      "Epoch 162/200\n",
      "1257/1257 [==============================] - 0s 39us/step - loss: 2.4880e-04\n",
      "Epoch 163/200\n",
      "1257/1257 [==============================] - 0s 38us/step - loss: 2.4814e-04\n",
      "Epoch 164/200\n",
      "1257/1257 [==============================] - 0s 38us/step - loss: 2.4780e-04\n",
      "Epoch 165/200\n",
      "1257/1257 [==============================] - 0s 38us/step - loss: 2.4758e-04\n",
      "Epoch 166/200\n",
      "1257/1257 [==============================] - 0s 44us/step - loss: 2.5019e-04\n",
      "Epoch 167/200\n",
      "1257/1257 [==============================] - 0s 39us/step - loss: 2.4789e-04\n",
      "Epoch 168/200\n",
      "1257/1257 [==============================] - 0s 38us/step - loss: 2.4829e-04\n",
      "Epoch 169/200\n",
      "1257/1257 [==============================] - 0s 37us/step - loss: 2.4736e-04\n",
      "Epoch 170/200\n",
      "1257/1257 [==============================] - 0s 39us/step - loss: 2.4847e-04\n",
      "Epoch 171/200\n",
      "1257/1257 [==============================] - 0s 37us/step - loss: 2.4578e-04\n",
      "Epoch 172/200\n",
      "1257/1257 [==============================] - 0s 38us/step - loss: 2.4703e-04\n",
      "Epoch 173/200\n",
      "1257/1257 [==============================] - 0s 37us/step - loss: 2.4639e-04\n",
      "Epoch 174/200\n",
      "1257/1257 [==============================] - 0s 39us/step - loss: 2.5220e-04\n",
      "Epoch 175/200\n",
      "1257/1257 [==============================] - 0s 38us/step - loss: 2.5181e-04\n",
      "Epoch 176/200\n",
      "1257/1257 [==============================] - 0s 38us/step - loss: 2.5229e-04\n",
      "Epoch 177/200\n",
      "1257/1257 [==============================] - 0s 38us/step - loss: 2.4695e-04\n",
      "Epoch 178/200\n",
      "1257/1257 [==============================] - 0s 39us/step - loss: 2.4703e-04\n",
      "Epoch 179/200\n",
      "1257/1257 [==============================] - 0s 41us/step - loss: 2.4621e-04\n",
      "Epoch 180/200\n",
      "1257/1257 [==============================] - 0s 41us/step - loss: 2.4570e-04\n",
      "Epoch 181/200\n",
      "1257/1257 [==============================] - 0s 40us/step - loss: 2.4796e-04\n",
      "Epoch 182/200\n",
      "1257/1257 [==============================] - 0s 39us/step - loss: 2.4671e-04\n",
      "Epoch 183/200\n",
      "1257/1257 [==============================] - 0s 36us/step - loss: 2.4931e-04\n",
      "Epoch 184/200\n"
     ]
    },
    {
     "name": "stdout",
     "output_type": "stream",
     "text": [
      "1257/1257 [==============================] - 0s 35us/step - loss: 2.5049e-04\n",
      "Epoch 185/200\n",
      "1257/1257 [==============================] - 0s 36us/step - loss: 2.5069e-04\n",
      "Epoch 186/200\n",
      "1257/1257 [==============================] - 0s 39us/step - loss: 2.4787e-04\n",
      "Epoch 187/200\n",
      "1257/1257 [==============================] - 0s 40us/step - loss: 2.4890e-04\n",
      "Epoch 188/200\n",
      "1257/1257 [==============================] - 0s 37us/step - loss: 2.4888e-04\n",
      "Epoch 189/200\n",
      "1257/1257 [==============================] - 0s 37us/step - loss: 2.4505e-04\n",
      "Epoch 190/200\n",
      "1257/1257 [==============================] - 0s 39us/step - loss: 2.4627e-04\n",
      "Epoch 191/200\n",
      "1257/1257 [==============================] - 0s 36us/step - loss: 2.4651e-04\n",
      "Epoch 192/200\n",
      "1257/1257 [==============================] - 0s 35us/step - loss: 2.4817e-04\n",
      "Epoch 193/200\n",
      "1257/1257 [==============================] - 0s 36us/step - loss: 2.4748e-04\n",
      "Epoch 194/200\n",
      "1257/1257 [==============================] - 0s 40us/step - loss: 2.4680e-04\n",
      "Epoch 195/200\n",
      "1257/1257 [==============================] - 0s 37us/step - loss: 2.4591e-04\n",
      "Epoch 196/200\n",
      "1257/1257 [==============================] - 0s 36us/step - loss: 2.4777e-04\n",
      "Epoch 197/200\n",
      "1257/1257 [==============================] - 0s 36us/step - loss: 2.4521e-04\n",
      "Epoch 198/200\n",
      "1257/1257 [==============================] - 0s 37us/step - loss: 2.4627e-04\n",
      "Epoch 199/200\n",
      "1257/1257 [==============================] - 0s 36us/step - loss: 2.4888e-04\n",
      "Epoch 200/200\n",
      "1257/1257 [==============================] - 0s 36us/step - loss: 2.4775e-04\n"
     ]
    },
    {
     "data": {
      "text/plain": [
       "<keras.callbacks.History at 0x2f30fc6aef0>"
      ]
     },
     "execution_count": 32,
     "metadata": {},
     "output_type": "execute_result"
    }
   ],
   "source": [
    "regressor.fit(X_train,y_train,batch_size=32,epochs=200)"
   ]
  },
  {
   "cell_type": "code",
   "execution_count": 43,
   "metadata": {},
   "outputs": [
    {
     "data": {
      "text/plain": [
       "(20, 1)"
      ]
     },
     "execution_count": 43,
     "metadata": {},
     "output_type": "execute_result"
    }
   ],
   "source": [
    "test_set=pd.read_csv('Google_Stock_Price_Test.csv')\n",
    "test.shape"
   ]
  },
  {
   "cell_type": "code",
   "execution_count": 34,
   "metadata": {},
   "outputs": [],
   "source": [
    "test=test_set.iloc[:,1:2].values"
   ]
  },
  {
   "cell_type": "code",
   "execution_count": 36,
   "metadata": {},
   "outputs": [],
   "source": [
    "inputs=test\n",
    "inputs=sc.fit_transform(inputs)\n",
    "inputs=np.reshape(inputs,(20,1,1))\n",
    "predicition=regressor.predict(inputs)\n",
    "prediction=sc.inverse_transform(predicition)"
   ]
  },
  {
   "cell_type": "code",
   "execution_count": 37,
   "metadata": {},
   "outputs": [],
   "source": [
    "import matplotlib.pyplot as plt"
   ]
  },
  {
   "cell_type": "code",
   "execution_count": 42,
   "metadata": {},
   "outputs": [
    {
     "data": {
      "image/png": "[encoded data removed]",
      "text/plain": [
       "<Figure size 2160x1080 with 1 Axes>"
      ]
     },
     "metadata": {
      "needs_background": "light"
     },
     "output_type": "display_data"
    }
   ],
   "source": [
    "plt.figure(figsize=(30,15))\n",
    "plt.plot(test,color='red',label='real Google Stock Price')\n",
    "plt.plot(prediction,color='blue',label='Predicted Google stock Price')\n",
    "plt.title('Google Stock Price Prediction')\n",
    "plt.xlabel('Time')\n",
    "plt.ylabel('Google Stock Price')\n",
    "plt.legend()\n",
    "plt.show()"
   ]
  },
  {
   "cell_type": "code",
   "execution_count": 54,
   "metadata": {},
   "outputs": [],
   "source": [
    "input1=sc.fit_transform(train1)\n",
    "input1=np.reshape((input1),(1258,1,1,))\n",
    "prediction1=regressor.predict(input1)\n",
    "prediction1=sc.inverse_transform(prediction1)\n",
    "import math\n",
    "from sklearn.metrics import mean_squared_error\n",
    "rmse=math.sqrt(mean_squared_error(train1,prediction1))"
   ]
  },
  {
   "cell_type": "code",
   "execution_count": 70,
   "metadata": {},
   "outputs": [],
   "source": [
    "sum=0\n",
    "for i in range(0,1258):\n",
    "    sum=sum+train1[[0]]"
   ]
  },
  {
   "cell_type": "code",
   "execution_count": 72,
   "metadata": {},
   "outputs": [
    {
     "data": {
      "text/plain": [
       "array([[325.25]])"
      ]
     },
     "execution_count": 72,
     "metadata": {},
     "output_type": "execute_result"
    }
   ],
   "source": [
    "sum/1258"
   ]
  },
  {
   "cell_type": "code",
   "execution_count": 73,
   "metadata": {},
   "outputs": [
    {
     "data": {
      "text/plain": [
       "0.005427733182651679"
      ]
     },
     "execution_count": 73,
     "metadata": {},
     "output_type": "execute_result"
    }
   ],
   "source": [
    "rmse/325.25"
   ]
  },
  {
   "cell_type": "code",
   "execution_count": null,
   "metadata": {},
   "outputs": [],
   "source": []
  }
 ],
 "metadata": {
  "kernelspec": {
   "display_name": "Python 3",
   "language": "python",
   "name": "python3"
  },
  "language_info": {
   "codemirror_mode": {
    "name": "ipython",
    "version": 3
   },
   "file_extension": ".py",
   "mimetype": "text/x-python",
   "name": "python",
   "nbconvert_exporter": "python",
   "pygments_lexer": "ipython3",
   "version": "3.6.8"
  }
 },
 "nbformat": 4,
 "nbformat_minor": 2
}
